{
 "cells": [
  {
   "cell_type": "markdown",
   "id": "632133ee-180a-4a8c-bd83-130ffdc8458f",
   "metadata": {},
   "source": [
    "# Paso 1: Preparacion"
   ]
  },
  {
   "cell_type": "code",
   "execution_count": 7,
   "id": "cc6d2819-e40f-4821-9cc5-f6e50e107dea",
   "metadata": {},
   "outputs": [],
   "source": [
    "#import openai\n",
    "#openai.api_key = \"\""
   ]
  },
  {
   "cell_type": "markdown",
   "id": "632229b1-b05d-4a61-a85b-30286dd5fd09",
   "metadata": {},
   "source": [
    "# Paso 2: Creación de la solicitud"
   ]
  },
  {
   "cell_type": "code",
   "execution_count": 5,
   "id": "d4c2255d-694a-468c-bbc2-0accb12b3e00",
   "metadata": {},
   "outputs": [
    {
     "name": "stdin",
     "output_type": "stream",
     "text": [
      "Escribe una historia: Hace mucho, mucho tiempo, había en el Olimpo dos hermanos llamados Prometeo y Epimeteo, eran buenos dioses, con un gran corazón. Sin embargo, un buen día, Prometeo se metió en problemas con el dios de los dioses, Zeus. Zeus afirmaba que el hombre no merecía tener el fuego pero, Prometeo, que tenía un corazón bondadoso y sabía cuánto necesitaba el hombre el fuego para poder mantenerse caliente y poder comer, se lo dio en secreto. Cuando Zeus se enteró entró en cólera, su mandato había sido ignorado. Cómo castigo, Zeus encadenó a Prometeo a una roca durante muchos años. Fue un castigo terrible pero, aun así, no fue suficiente condena para Zeus, quien decidió ir tras el bueno de Epimeteo y así hacer sufrir a Prometeo. El retorcido Zeus, tenía para él otro castigo distinto. Primero, ordenó a Hefesto, el dios que forjaba, esculpía o modelaba, que creará una hija para él. Hefesto modeló en barro a una bella mujer, la dio vida y se la entregó a Zeus, quien la llamó Pandora.  Y así, siguió Zeus con su plan, a continuación se acercó a Epimeteo y le dijo:  - Tu hermano hubo de ser castigado por desobedecer mis órdenes, pero sé lo solo que te has quedado sin la compañía de Prometeo, es por ello que he decidido darte en matrimonio a mi hija, la bella Pandora.  Epimeteo, tenía un corazón bondadoso, pero no era tonto y sospechó de las intenciones de Zeus, estaba seguro de que tramaba algo. Sin embargo, nada más ver a Pandora se enamoró de ella y ambos se casaron.  Como regalo de boda, Zeus le dio una caja a los recién casados y con ella, venía una llave y una nota que indicaba \"no abrir\".  ¿Imaginas lo que ocurrió? Es demasiada la tentación que puede sentir alguien al tener algo prohibido, incluso para la hija de un dios era irresistible la curiosidad por saber qué contenía la caja.  Y así Pandora, un buen día usó la llave y abrió la caja. En aquel mismo instante, todas las cosas malas del mundo escaparon de ella: la envidia, la enfermedad, el miedo, el odio, la ira... Pandora aterrada, cerró la caja de golpe, pero ya era demasiado tarde. Abatida, se echó a llorar. Epimeteo que escuchó su llanto se acercó y Pandora abrió la caja para mostrarle que estaba vacía. Sin embargo, antes de que la cerrara de nuevo, un pequeño insecto se escapó volando de ella, miró a Pandora y le sonrió como muestra de agradecimiento al haberla dejado en libertad. Aquel pequeño insecto se llamaba Esperanza. Significado del mito de la caja de Pandora El final de este relato deja claro su significado: la esperanza, es lo último que se pierde.  En el mundo conviven tanto las cosas buenas como las malas, los valores negativos y los positivos. Para que los negativos no acaben con nosotros, tenemos que aferrarnos a la esperanza. Cuando el miedo, el hambre, la tristeza, la maldad o la envidia, tratan de abatirte y acabar con tu alegría, has de luchar contra ellos. La fé y el ánimo de que sucederá algo favorable, es la manera de lograrlo.  Este mito puede enseñar a los niños no solo sobre las creencias de los antiguos griegos, sino también sobre la importancia de tener esperanza y ser optimistas.\n",
      "Haz una pregunta sobre la historia:  quies es pandora?\n"
     ]
    },
    {
     "name": "stdout",
     "output_type": "stream",
     "text": [
      "________________________________________________________________________________\n",
      "Pandora es el nombre de la mujer creada por Hefesto y entregada a Epimeteo por Zeus en el mito de la caja de Pandora. Según la mitología griega, Pandora fue la primera mujer en la Tierra y su apertura de la caja provocó la liberación de todos los males en el mundo, excepto la esperanza.\n"
     ]
    },
    {
     "name": "stdin",
     "output_type": "stream",
     "text": [
      "¿Quieres hacer otra pregunta? (S/N):  S\n",
      "Haz una pregunta sobre la historia:  que caracteristicas tenia pandora?\n"
     ]
    },
    {
     "name": "stdout",
     "output_type": "stream",
     "text": [
      "________________________________________________________________________________\n",
      "Pandora era una mujer bella, creada por Hefesto a pedido de Zeus. Tenía una gran curiosidad y fue tentada por la idea de abrir la caja prohibida, lo que desencadenó la liberación de todas las cosas malas en el mundo. A pesar de su error, mostró arrepentimiento y tristeza por lo sucedido. Sin embargo, también fue la responsable de la liberación de la esperanza, mostrando así su capacidad de traer un rayo de luz incluso en medio de la oscuridad.\n"
     ]
    },
    {
     "name": "stdin",
     "output_type": "stream",
     "text": [
      "¿Quieres hacer otra pregunta? (S/N):  N\n"
     ]
    },
    {
     "name": "stdout",
     "output_type": "stream",
     "text": [
      "Saliendo del programa. ¡Gracias!\n"
     ]
    }
   ],
   "source": [
    "# Contexto sobre la historia - input() instrucción en python para solicitar la entrada por teclado\n",
    "story = input(\"Escribe una historia:\")\n",
    "\n",
    "# Bucle para hacer preguntas múltiples\n",
    "while True:\n",
    "    user_question = input(\"Haz una pregunta sobre la historia: \")\n",
    "\n",
    "    # Combinación del contexto y la pregunta\n",
    "    few_shot_prompt = f\"{story}\\nUsuario: {user_question}\"\n",
    "\n",
    "    # Combinación del contexto y la pregunta\n",
    "    conversation = [\n",
    "        {\"role\":\"user\",\"content\":few_shot_prompt}\n",
    "        ]\n",
    "\n",
    "    # Solicitud para obtener la respuesta del modelo\n",
    "    response = openai.ChatCompletion.create(\n",
    "        model='gpt-3.5-turbo',\n",
    "        messages=conversation,\n",
    "        max_tokens=500\n",
    "    )\n",
    "\n",
    "    # Obtiene y muestra la respuesta del modelo\n",
    "    print(\"_\"*80)\n",
    "    message = response.choices[0]['message']\n",
    "    print(\"{}\".format(message['content']))\n",
    "\n",
    "    # Pregunta si se quiere hacer otra pregunta\n",
    "    another_question = input(\"¿Quieres hacer otra pregunta? (S/N): \").lower()\n",
    "\n",
    "    # Condicional para decidir si continuar o salir del bucle\n",
    "    if another_question != 's':\n",
    "        print(\"Saliendo del programa. ¡Gracias!\")\n",
    "        break"
   ]
  },
  {
   "cell_type": "code",
   "execution_count": null,
   "id": "2e5b343e-078c-4412-9a63-72afcfb7e874",
   "metadata": {},
   "outputs": [],
   "source": []
  }
 ],
 "metadata": {
  "kernelspec": {
   "display_name": "Python 3 (ipykernel)",
   "language": "python",
   "name": "python3"
  },
  "language_info": {
   "codemirror_mode": {
    "name": "ipython",
    "version": 3
   },
   "file_extension": ".py",
   "mimetype": "text/x-python",
   "name": "python",
   "nbconvert_exporter": "python",
   "pygments_lexer": "ipython3",
   "version": "3.10.6"
  }
 },
 "nbformat": 4,
 "nbformat_minor": 5
}
